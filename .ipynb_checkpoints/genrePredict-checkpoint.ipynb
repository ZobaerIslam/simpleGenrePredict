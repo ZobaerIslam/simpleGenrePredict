{
 "cells": [
  {
   "cell_type": "markdown",
   "id": "6a6f1141",
   "metadata": {},
   "source": [
    "# <span style=\"color: rgb(232 121 249); text-align: center;\" >Genre Predict </span>\n",
    "\n",
    "<span style=\"color: rgb(248 113 113); font-size: 18px;\" >Problem:</span> We have an online music store when our sign up we ask their age and gender and based on their profile. we recommend various Music albums they're likely to buy. So in this project we want to use machine to increase sales. \n",
    "\n",
    "So we want to build a model. We feed this model with some sample data based on the existing users. Our model will learn the patterns in our data, so we can ask it to make predictions. When a user signs up we tell our model, hey we have a new user with this profile. What is the kind of music that this user is iterested in. Our model will say jazz or hip hop or whatever and based on that. We can make suggestions to the user so this is the problem we're going to solve.\n",
    "\n",
    "\n",
    "<span style=\"color: rgb(52 211 153); font-size: 17px;\" >Steps:</span>\n",
    "    \n",
    "    1. Inspect and Preparing the data for model.\n",
    "    2. Build the model for Learing and Predicting.\n",
    "    3. Calculating the Accuracy.\n",
    "    4. Persisting Models.\n",
    "    5. Visualizing the Model."
   ]
  },
  {
   "cell_type": "code",
   "execution_count": 25,
   "id": "d11e6d25",
   "metadata": {},
   "outputs": [],
   "source": [
    "# Import necessary module.\n",
    "import pandas as pd "
   ]
  },
  {
   "cell_type": "code",
   "execution_count": 12,
   "id": "3f0f49e5",
   "metadata": {},
   "outputs": [],
   "source": [
    "# Load data to DataFrame: music_data\n",
    "music_data = pd.read_csv(\"music.csv\")"
   ]
  },
  {
   "cell_type": "markdown",
   "id": "9b891345",
   "metadata": {},
   "source": [
    "## <center> step 1: Inspect and Preparing the data </center>"
   ]
  },
  {
   "cell_type": "code",
   "execution_count": null,
   "id": "30094275",
   "metadata": {},
   "outputs": [],
   "source": [
    "\n",
    "music_data_modify = music_data.copy()\n",
    "music_data_modify"
   ]
  },
  {
   "cell_type": "code",
   "execution_count": null,
   "id": "326a5846",
   "metadata": {},
   "outputs": [],
   "source": []
  }
 ],
 "metadata": {
  "kernelspec": {
   "display_name": "Python 3 (ipykernel)",
   "language": "python",
   "name": "python3"
  },
  "language_info": {
   "codemirror_mode": {
    "name": "ipython",
    "version": 3
   },
   "file_extension": ".py",
   "mimetype": "text/x-python",
   "name": "python",
   "nbconvert_exporter": "python",
   "pygments_lexer": "ipython3",
   "version": "3.8.3"
  }
 },
 "nbformat": 4,
 "nbformat_minor": 5
}
