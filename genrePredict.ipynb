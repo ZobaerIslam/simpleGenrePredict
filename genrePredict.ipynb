{
 "cells": [
  {
   "cell_type": "markdown",
   "id": "17efbcd3",
   "metadata": {},
   "source": [
    "# <span style=\"color: rgb(232 121 249); text-align: center;\"> <center> Genre Predict </center> </span>\n",
    "\n",
    "<span style=\"color: rgb(248 113 113); font-size: 18px;\" >Problem:</span> We have an online music store when our sign up we ask their age and gender and based on their profile. we recommend various Music albums they're likely to buy. So in this project we want to use machine to increase sales. \n",
    "\n",
    "So we want to build a model. We feed this model with some sample data based on the existing users. Our model will learn the patterns in our data, so we can ask it to make predictions. When a user signs up we tell our model, hey we have a new user with this profile. What is the kind of music that this user is iterested in. Our model will say jazz or hip hop or whatever and based on that. We can make suggestions to the user so this is the problem we're going to solve.\n",
    "\n",
    "\n",
    "<span style=\"color: rgb(52 211 153); font-size: 17px;\" >Steps:</span>\n",
    "    \n",
    "    1. Inspect and Preparing the data for model.\n",
    "    2. Build the model for Learing and Predicting.\n",
    "    3. Calculating the Accuracy.\n",
    "    4. Persisting Models.\n",
    "    5. Visualizing the Model."
   ]
  },
  {
   "cell_type": "code",
   "execution_count": 2,
   "id": "d11e6d25",
   "metadata": {},
   "outputs": [],
   "source": [
    "# Import necessary module.\n",
    "import pandas as pd "
   ]
  },
  {
   "cell_type": "code",
   "execution_count": 3,
   "id": "3f0f49e5",
   "metadata": {},
   "outputs": [],
   "source": [
    "# Load data to DataFrame: music_data\n",
    "music_data = pd.read_csv(\"music.csv\")"
   ]
  },
  {
   "cell_type": "markdown",
   "id": "6dbe8641",
   "metadata": {},
   "source": [
    "## <span style=\"text-align: center;\"> <center> step 1: Inspect and Preparing the data </center>"
   ]
  },
  {
   "cell_type": "code",
   "execution_count": 4,
   "id": "6a1bba66",
   "metadata": {},
   "outputs": [
    {
     "data": {
      "text/html": [
       "<div>\n",
       "<style scoped>\n",
       "    .dataframe tbody tr th:only-of-type {\n",
       "        vertical-align: middle;\n",
       "    }\n",
       "\n",
       "    .dataframe tbody tr th {\n",
       "        vertical-align: top;\n",
       "    }\n",
       "\n",
       "    .dataframe thead th {\n",
       "        text-align: right;\n",
       "    }\n",
       "</style>\n",
       "<table border=\"1\" class=\"dataframe\">\n",
       "  <thead>\n",
       "    <tr style=\"text-align: right;\">\n",
       "      <th></th>\n",
       "      <th>age</th>\n",
       "      <th>gender</th>\n",
       "      <th>genre</th>\n",
       "    </tr>\n",
       "  </thead>\n",
       "  <tbody>\n",
       "    <tr>\n",
       "      <th>0</th>\n",
       "      <td>20</td>\n",
       "      <td>Male</td>\n",
       "      <td>HipHop</td>\n",
       "    </tr>\n",
       "    <tr>\n",
       "      <th>1</th>\n",
       "      <td>23</td>\n",
       "      <td>Male</td>\n",
       "      <td>HipHop</td>\n",
       "    </tr>\n",
       "    <tr>\n",
       "      <th>2</th>\n",
       "      <td>25</td>\n",
       "      <td>Male</td>\n",
       "      <td>HipHop</td>\n",
       "    </tr>\n",
       "    <tr>\n",
       "      <th>3</th>\n",
       "      <td>26</td>\n",
       "      <td>Male</td>\n",
       "      <td>Jazz</td>\n",
       "    </tr>\n",
       "    <tr>\n",
       "      <th>4</th>\n",
       "      <td>29</td>\n",
       "      <td>Male</td>\n",
       "      <td>Jazz</td>\n",
       "    </tr>\n",
       "    <tr>\n",
       "      <th>5</th>\n",
       "      <td>30</td>\n",
       "      <td>Male</td>\n",
       "      <td>Jazz</td>\n",
       "    </tr>\n",
       "    <tr>\n",
       "      <th>6</th>\n",
       "      <td>31</td>\n",
       "      <td>Male</td>\n",
       "      <td>Classical</td>\n",
       "    </tr>\n",
       "    <tr>\n",
       "      <th>7</th>\n",
       "      <td>33</td>\n",
       "      <td>Male</td>\n",
       "      <td>Classical</td>\n",
       "    </tr>\n",
       "    <tr>\n",
       "      <th>8</th>\n",
       "      <td>37</td>\n",
       "      <td>Male</td>\n",
       "      <td>Classical</td>\n",
       "    </tr>\n",
       "    <tr>\n",
       "      <th>9</th>\n",
       "      <td>20</td>\n",
       "      <td>Female</td>\n",
       "      <td>Dance</td>\n",
       "    </tr>\n",
       "    <tr>\n",
       "      <th>10</th>\n",
       "      <td>21</td>\n",
       "      <td>Female</td>\n",
       "      <td>Dance</td>\n",
       "    </tr>\n",
       "    <tr>\n",
       "      <th>11</th>\n",
       "      <td>25</td>\n",
       "      <td>Female</td>\n",
       "      <td>Dance</td>\n",
       "    </tr>\n",
       "    <tr>\n",
       "      <th>12</th>\n",
       "      <td>26</td>\n",
       "      <td>Female</td>\n",
       "      <td>Acoustic</td>\n",
       "    </tr>\n",
       "    <tr>\n",
       "      <th>13</th>\n",
       "      <td>27</td>\n",
       "      <td>Female</td>\n",
       "      <td>Acoustic</td>\n",
       "    </tr>\n",
       "    <tr>\n",
       "      <th>14</th>\n",
       "      <td>30</td>\n",
       "      <td>Female</td>\n",
       "      <td>Acoustic</td>\n",
       "    </tr>\n",
       "    <tr>\n",
       "      <th>15</th>\n",
       "      <td>31</td>\n",
       "      <td>Female</td>\n",
       "      <td>Classical</td>\n",
       "    </tr>\n",
       "    <tr>\n",
       "      <th>16</th>\n",
       "      <td>34</td>\n",
       "      <td>Female</td>\n",
       "      <td>Classical</td>\n",
       "    </tr>\n",
       "    <tr>\n",
       "      <th>17</th>\n",
       "      <td>35</td>\n",
       "      <td>Female</td>\n",
       "      <td>Classical</td>\n",
       "    </tr>\n",
       "  </tbody>\n",
       "</table>\n",
       "</div>"
      ],
      "text/plain": [
       "    age  gender      genre\n",
       "0    20    Male     HipHop\n",
       "1    23    Male     HipHop\n",
       "2    25    Male     HipHop\n",
       "3    26    Male       Jazz\n",
       "4    29    Male       Jazz\n",
       "5    30    Male       Jazz\n",
       "6    31    Male  Classical\n",
       "7    33    Male  Classical\n",
       "8    37    Male  Classical\n",
       "9    20  Female      Dance\n",
       "10   21  Female      Dance\n",
       "11   25  Female      Dance\n",
       "12   26  Female   Acoustic\n",
       "13   27  Female   Acoustic\n",
       "14   30  Female   Acoustic\n",
       "15   31  Female  Classical\n",
       "16   34  Female  Classical\n",
       "17   35  Female  Classical"
      ]
     },
     "execution_count": 4,
     "metadata": {},
     "output_type": "execute_result"
    }
   ],
   "source": [
    "# Data inspection\n",
    "music_data"
   ]
  },
  {
   "cell_type": "code",
   "execution_count": 5,
   "id": "326a5846",
   "metadata": {},
   "outputs": [
    {
     "name": "stdout",
     "output_type": "stream",
     "text": [
      "Data dimensions: (18, 3)\n",
      "Number of columns are: 3\n",
      "Number of rows are:  18\n",
      "\n"
     ]
    }
   ],
   "source": [
    "# Dispaly rows and columns\n",
    "print(\"Data dimensions:\", music_data.shape)\n",
    "print(\"Number of columns are:\", music_data.shape[1])\n",
    "print(\"Number of rows are: \", music_data.shape[0], end='\\n\\n')"
   ]
  },
  {
   "cell_type": "markdown",
   "id": "37316a62",
   "metadata": {},
   "source": [
    "### <span style=\"text-align: center;\"> <center> Cleaning data (Preparing the data) </center>"
   ]
  },
  {
   "cell_type": "code",
   "execution_count": 16,
   "id": "f74dbbc9",
   "metadata": {},
   "outputs": [
    {
     "name": "stdout",
     "output_type": "stream",
     "text": [
      "<class 'pandas.core.frame.DataFrame'>\n",
      "RangeIndex: 18 entries, 0 to 17\n",
      "Data columns (total 3 columns):\n",
      " #   Column  Non-Null Count  Dtype \n",
      "---  ------  --------------  ----- \n",
      " 0   age     18 non-null     int64 \n",
      " 1   gender  18 non-null     object\n",
      " 2   genre   18 non-null     object\n",
      "dtypes: int64(1), object(2)\n",
      "memory usage: 560.0+ bytes\n"
     ]
    }
   ],
   "source": [
    "# Modifications in original data will not reflected in copied data\n",
    "clean_data = music_data.copy()\n",
    "\n",
    "# Inspect the summary of data\n",
    "clean_data.info()"
   ]
  },
  {
   "cell_type": "code",
   "execution_count": 17,
   "id": "2ac5b53e",
   "metadata": {},
   "outputs": [
    {
     "data": {
      "text/plain": [
       "age       0\n",
       "gender    0\n",
       "genre     0\n",
       "dtype: int64"
      ]
     },
     "execution_count": 17,
     "metadata": {},
     "output_type": "execute_result"
    }
   ],
   "source": [
    "# Check null or missing values\n",
    "clean_data.isnull().sum()"
   ]
  },
  {
   "cell_type": "markdown",
   "id": "69f24c16",
   "metadata": {},
   "source": [
    "There are no null or mission values in any column"
   ]
  },
  {
   "cell_type": "code",
   "execution_count": 20,
   "id": "edbb4b47",
   "metadata": {},
   "outputs": [
    {
     "data": {
      "text/plain": [
       "0     False\n",
       "1     False\n",
       "2     False\n",
       "3     False\n",
       "4     False\n",
       "5     False\n",
       "6     False\n",
       "7     False\n",
       "8     False\n",
       "9     False\n",
       "10    False\n",
       "11    False\n",
       "12    False\n",
       "13    False\n",
       "14    False\n",
       "15    False\n",
       "16    False\n",
       "17    False\n",
       "dtype: bool"
      ]
     },
     "execution_count": 20,
     "metadata": {},
     "output_type": "execute_result"
    }
   ],
   "source": [
    "# Check Duplicate data \n",
    "clean_data.duplicated()"
   ]
  },
  {
   "cell_type": "markdown",
   "id": "75951e16",
   "metadata": {},
   "source": [
    "There are no duplicate data in any row"
   ]
  },
  {
   "cell_type": "code",
   "execution_count": 21,
   "id": "c041b8cc",
   "metadata": {},
   "outputs": [
    {
     "name": "stdout",
     "output_type": "stream",
     "text": [
      "<class 'pandas.core.frame.DataFrame'>\n",
      "RangeIndex: 18 entries, 0 to 17\n",
      "Data columns (total 3 columns):\n",
      " #   Column  Non-Null Count  Dtype \n",
      "---  ------  --------------  ----- \n",
      " 0   age     18 non-null     int64 \n",
      " 1   gender  18 non-null     object\n",
      " 2   genre   18 non-null     object\n",
      "dtypes: int64(1), object(2)\n",
      "memory usage: 560.0+ bytes\n"
     ]
    }
   ],
   "source": [
    "# Display infomation about the music data.\n",
    "music_data.info()"
   ]
  },
  {
   "cell_type": "markdown",
   "id": "f1c0f183",
   "metadata": {},
   "source": [
    "In this music data, there is no missing value or duplicate data So, we just need to convert the data object into numbers."
   ]
  },
  {
   "cell_type": "markdown",
   "id": "4ad1aecd",
   "metadata": {},
   "source": [
    "From the above data summary we can see that age column is integer and other columns are gender and genre is object.\n",
    "\n",
    "**Gender is a Discrete (Categorical) variable**\n",
    "\n",
    "**Genre is Dependent (Categorical) variable**\n",
    "\n",
    "**Note:** Most machine learning models only accept numerical variables, preprocessing the categorical variables becomes a necessary step. We need to convert these categorical variables to numbers such that the model is able to understand and extract valuable information.\n"
   ]
  },
  {
   "cell_type": "markdown",
   "id": "8f015b1f",
   "metadata": {},
   "source": [
    "> <span style=\"color: rgb(21 94 117); font-size: 16px;\"> How should we select encoding methods is depends algorithm(s) we apply: </span>\n",
    "\n",
    "- <span style=\"color: rgb(3 105 161);\">  Some algorithms can work with categorical data directly e.g LightGBM, CatBoost, or For example, a dicision tree can be learned directly from categorical data with no date transform required (this depends on the specific implementation). </span>\n",
    "\n",
    "- <span style=\"color: rgb(3 105 161);\"> Many machine learning algorithms cannot operate on lable data directly. They require all input variables and output variables to be numeric. </span> \n",
    "\n",
    "- <span style=\"color: rgb(3 105 161);\"> Some implementations of machine learning algorithms require all data to be numerical. For example, scikit-learn has this requirement. </span>\n",
    "\n",
    "- <span style=\"color: rgb(3 105 161);\"> If we categorize algorithms to linear and tree based models we should consider that generally linear models are sensitive to order of ordinal data so we should select appropriate encoding methods. </span>\n",
    "\n",
    "__[An Overview of Categorical Encoding Methods](https://www.kaggle.com/code/arashnic/an-overview-of-categorical-encoding-methods/notebook)__"
   ]
  },
  {
   "cell_type": "code",
   "execution_count": 22,
   "id": "71aff471",
   "metadata": {},
   "outputs": [
    {
     "data": {
      "text/plain": [
       "['gender', 'genre']"
      ]
     },
     "execution_count": 22,
     "metadata": {},
     "output_type": "execute_result"
    }
   ],
   "source": [
    "# Generate list of object columns name in Music data\n",
    "categorical_columns = [c for c in clean_data.columns if clean_data[c].dtypes == 'object']\n",
    "\n",
    "categorical_columns"
   ]
  },
  {
   "cell_type": "code",
   "execution_count": 32,
   "id": "6fd86c18",
   "metadata": {},
   "outputs": [],
   "source": [
    "# Difine function: Convert object to numeric\n",
    "def objToNum(col):\n",
    "    '''\n",
    "    Generate unique value of column, replace the string (object) value with \n",
    "    index(integer) of unique value .\n",
    "    '''\n",
    "    possible_labels = clean_data[col].unique()\n",
    "    label_dict = {}\n",
    "    \n",
    "    for index, possible_label in enumerate(possible_labels):\n",
    "        label_dict[possible_label] = index\n",
    "        \n",
    "    clean_data[col] = clean_data[col].replace(label_dict)\n",
    "    \n",
    "    return label_dict"
   ]
  },
  {
   "cell_type": "code",
   "execution_count": 33,
   "id": "a80a4bb6",
   "metadata": {},
   "outputs": [
    {
     "name": "stdout",
     "output_type": "stream",
     "text": [
      "{'Male': 0, 'Female': 1}\n",
      "{'HipHop': 0, 'Jazz': 1, 'Classical': 2, 'Dance': 3, 'Acoustic': 4}\n"
     ]
    }
   ],
   "source": [
    "# Convert Object ot Numeric\n",
    "for i in categorical_columns:\n",
    "    print(objToNum(i))\n",
    "    "
   ]
  },
  {
   "cell_type": "markdown",
   "id": "949c2e2c",
   "metadata": {},
   "source": [
    "Now 0 represents the `Male` and 1 represents the `Female`, and the Genre column represents, respectively."
   ]
  },
  {
   "cell_type": "code",
   "execution_count": 35,
   "id": "d9f72332",
   "metadata": {},
   "outputs": [
    {
     "data": {
      "text/html": [
       "<div>\n",
       "<style scoped>\n",
       "    .dataframe tbody tr th:only-of-type {\n",
       "        vertical-align: middle;\n",
       "    }\n",
       "\n",
       "    .dataframe tbody tr th {\n",
       "        vertical-align: top;\n",
       "    }\n",
       "\n",
       "    .dataframe thead th {\n",
       "        text-align: right;\n",
       "    }\n",
       "</style>\n",
       "<table border=\"1\" class=\"dataframe\">\n",
       "  <thead>\n",
       "    <tr style=\"text-align: right;\">\n",
       "      <th></th>\n",
       "      <th>age</th>\n",
       "      <th>gender</th>\n",
       "      <th>genre</th>\n",
       "    </tr>\n",
       "  </thead>\n",
       "  <tbody>\n",
       "    <tr>\n",
       "      <th>0</th>\n",
       "      <td>20</td>\n",
       "      <td>0</td>\n",
       "      <td>0</td>\n",
       "    </tr>\n",
       "    <tr>\n",
       "      <th>1</th>\n",
       "      <td>23</td>\n",
       "      <td>0</td>\n",
       "      <td>0</td>\n",
       "    </tr>\n",
       "    <tr>\n",
       "      <th>2</th>\n",
       "      <td>25</td>\n",
       "      <td>0</td>\n",
       "      <td>0</td>\n",
       "    </tr>\n",
       "    <tr>\n",
       "      <th>3</th>\n",
       "      <td>26</td>\n",
       "      <td>0</td>\n",
       "      <td>1</td>\n",
       "    </tr>\n",
       "    <tr>\n",
       "      <th>4</th>\n",
       "      <td>29</td>\n",
       "      <td>0</td>\n",
       "      <td>1</td>\n",
       "    </tr>\n",
       "    <tr>\n",
       "      <th>5</th>\n",
       "      <td>30</td>\n",
       "      <td>0</td>\n",
       "      <td>1</td>\n",
       "    </tr>\n",
       "    <tr>\n",
       "      <th>6</th>\n",
       "      <td>31</td>\n",
       "      <td>0</td>\n",
       "      <td>2</td>\n",
       "    </tr>\n",
       "    <tr>\n",
       "      <th>7</th>\n",
       "      <td>33</td>\n",
       "      <td>0</td>\n",
       "      <td>2</td>\n",
       "    </tr>\n",
       "    <tr>\n",
       "      <th>8</th>\n",
       "      <td>37</td>\n",
       "      <td>0</td>\n",
       "      <td>2</td>\n",
       "    </tr>\n",
       "    <tr>\n",
       "      <th>9</th>\n",
       "      <td>20</td>\n",
       "      <td>1</td>\n",
       "      <td>3</td>\n",
       "    </tr>\n",
       "    <tr>\n",
       "      <th>10</th>\n",
       "      <td>21</td>\n",
       "      <td>1</td>\n",
       "      <td>3</td>\n",
       "    </tr>\n",
       "    <tr>\n",
       "      <th>11</th>\n",
       "      <td>25</td>\n",
       "      <td>1</td>\n",
       "      <td>3</td>\n",
       "    </tr>\n",
       "    <tr>\n",
       "      <th>12</th>\n",
       "      <td>26</td>\n",
       "      <td>1</td>\n",
       "      <td>4</td>\n",
       "    </tr>\n",
       "    <tr>\n",
       "      <th>13</th>\n",
       "      <td>27</td>\n",
       "      <td>1</td>\n",
       "      <td>4</td>\n",
       "    </tr>\n",
       "    <tr>\n",
       "      <th>14</th>\n",
       "      <td>30</td>\n",
       "      <td>1</td>\n",
       "      <td>4</td>\n",
       "    </tr>\n",
       "    <tr>\n",
       "      <th>15</th>\n",
       "      <td>31</td>\n",
       "      <td>1</td>\n",
       "      <td>2</td>\n",
       "    </tr>\n",
       "    <tr>\n",
       "      <th>16</th>\n",
       "      <td>34</td>\n",
       "      <td>1</td>\n",
       "      <td>2</td>\n",
       "    </tr>\n",
       "    <tr>\n",
       "      <th>17</th>\n",
       "      <td>35</td>\n",
       "      <td>1</td>\n",
       "      <td>2</td>\n",
       "    </tr>\n",
       "  </tbody>\n",
       "</table>\n",
       "</div>"
      ],
      "text/plain": [
       "    age  gender  genre\n",
       "0    20       0      0\n",
       "1    23       0      0\n",
       "2    25       0      0\n",
       "3    26       0      1\n",
       "4    29       0      1\n",
       "5    30       0      1\n",
       "6    31       0      2\n",
       "7    33       0      2\n",
       "8    37       0      2\n",
       "9    20       1      3\n",
       "10   21       1      3\n",
       "11   25       1      3\n",
       "12   26       1      4\n",
       "13   27       1      4\n",
       "14   30       1      4\n",
       "15   31       1      2\n",
       "16   34       1      2\n",
       "17   35       1      2"
      ]
     },
     "execution_count": 35,
     "metadata": {},
     "output_type": "execute_result"
    }
   ],
   "source": [
    "clean_data"
   ]
  },
  {
   "cell_type": "code",
   "execution_count": 36,
   "id": "7e536bef",
   "metadata": {},
   "outputs": [
    {
     "name": "stdout",
     "output_type": "stream",
     "text": [
      "<class 'pandas.core.frame.DataFrame'>\n",
      "RangeIndex: 18 entries, 0 to 17\n",
      "Data columns (total 3 columns):\n",
      " #   Column  Non-Null Count  Dtype\n",
      "---  ------  --------------  -----\n",
      " 0   age     18 non-null     int64\n",
      " 1   gender  18 non-null     int64\n",
      " 2   genre   18 non-null     int64\n",
      "dtypes: int64(3)\n",
      "memory usage: 560.0 bytes\n"
     ]
    }
   ],
   "source": [
    "clean_data.info()"
   ]
  },
  {
   "cell_type": "markdown",
   "id": "fb2e9bc4",
   "metadata": {},
   "source": [
    "All values are Numaric, now we need to split the datasets for training, test for model learning and predicting."
   ]
  },
  {
   "cell_type": "code",
   "execution_count": 40,
   "id": "1337e6f0",
   "metadata": {},
   "outputs": [],
   "source": [
    "# Create train(X) dataframe: without genre column\n",
    "X = clean_data.drop(columns=['genre'])\n",
    "\n",
    "# Create test(y) series: only genre column\n",
    "y = clean_data['genre']\n"
   ]
  },
  {
   "cell_type": "code",
   "execution_count": null,
   "id": "02ecfe11",
   "metadata": {},
   "outputs": [],
   "source": []
  }
 ],
 "metadata": {
  "kernelspec": {
   "display_name": "Python 3 (ipykernel)",
   "language": "python",
   "name": "python3"
  },
  "language_info": {
   "codemirror_mode": {
    "name": "ipython",
    "version": 3
   },
   "file_extension": ".py",
   "mimetype": "text/x-python",
   "name": "python",
   "nbconvert_exporter": "python",
   "pygments_lexer": "ipython3",
   "version": "3.8.3"
  }
 },
 "nbformat": 4,
 "nbformat_minor": 5
}
